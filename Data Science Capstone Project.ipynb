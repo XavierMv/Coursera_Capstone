{
 "cells": [
  {
   "cell_type": "markdown",
   "metadata": {},
   "source": [
    "#                                          Final Capstone Project"
   ]
  },
  {
   "cell_type": "markdown",
   "metadata": {},
   "source": [
    "## Introduction"
   ]
  },
  {
   "cell_type": "markdown",
   "metadata": {},
   "source": [
    "In the following project we will analyze the state of Nevada, in this state we will focus on Las Vegas for our first analysis approach, with that information we will be able to know where should we open a restaurant, we decided to evaluate the possibility of opening a restaurant in this state because of the wide range of tourists that come to visit Las Vegas, this place is one of the most visited locations by tourists and Americans, and there might be a possibility of opening with success a restaurant."
   ]
  },
  {
   "cell_type": "markdown",
   "metadata": {},
   "source": [
    "## Data Description"
   ]
  },
  {
   "cell_type": "markdown",
   "metadata": {},
   "source": [
    "We will be analyzing the geographical data of Nevada from a dataset that has been downloaded from \"https://www.kaggle.com/pavansanagapati/us-wages-via-zipcode?select=free-zipcode-database.csv\", and we will only be considering the following variables:"
   ]
  },
  {
   "cell_type": "markdown",
   "metadata": {},
   "source": [
    "- longitude\n",
    "- latitude\n",
    "- City\n",
    "- Zipcode"
   ]
  },
  {
   "cell_type": "markdown",
   "metadata": {},
   "source": [
    "After we have analyzed the state we will use the Foursquare API in order to find the most convenient venues throughout the state of Nevada so we can analyze where is the most strategic location to have success on the business."
   ]
  },
  {
   "cell_type": "markdown",
   "metadata": {},
   "source": [
    "## Methodology"
   ]
  },
  {
   "cell_type": "markdown",
   "metadata": {},
   "source": [
    "The data will be analyzed with the tools that we learned in the past weeks about the unsupervised method of clustering with k-means an in that way we will be able to find the perfect location."
   ]
  }
 ],
 "metadata": {
  "kernelspec": {
   "display_name": "Python 3",
   "language": "python",
   "name": "python3"
  },
  "language_info": {
   "codemirror_mode": {
    "name": "ipython",
    "version": 3
   },
   "file_extension": ".py",
   "mimetype": "text/x-python",
   "name": "python",
   "nbconvert_exporter": "python",
   "pygments_lexer": "ipython3",
   "version": "3.7.6"
  }
 },
 "nbformat": 4,
 "nbformat_minor": 4
}
